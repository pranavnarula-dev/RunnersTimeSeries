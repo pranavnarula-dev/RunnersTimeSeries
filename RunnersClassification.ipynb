{
 "cells": [
  {
   "cell_type": "markdown",
   "id": "36c77ce0",
   "metadata": {},
   "source": [
    "## Time Series Running Data\n",
    "\n",
    "## Objective\n",
    "The objective of this assignment is to identify good models for classifying time series data.  \n",
    "The data is from an accelerometer sensor and there are samples of fatigued and non-fatigued running. The data has been segmented into strides and the segments (samples) are labelled F (fatigued) and NF (not fatigued). The data for two subjects A and B are available in the files  `fatigueA.csv` and  `fatigueB.csv`. This dataset is extracted from a much larger dataset described [here](https://openreview.net/pdf?id=9c0lAonDNP).  \n",
    "At present, the best performing method for time-series classification is [Rocket](https://openreview.net/pdf?id=9c0lAonDNP). \n",
    "A rocket implementation is available in the [sktime tool kit](https://www.sktime.net/en/latest/api_reference/auto_generated/sktime.transformations.panel.rocket.Rocket.html). This sktime implementation can be used in this assignment.   \n",
    "Some code to get you started in available in the notebook `RunningCore`.\n",
    "\n"
   ]
  },
  {
   "cell_type": "code",
   "execution_count": 1,
   "id": "62ded7ee",
   "metadata": {},
   "outputs": [],
   "source": [
    "# pip install sktime"
   ]
  },
  {
   "cell_type": "code",
   "execution_count": 2,
   "id": "ed655030",
   "metadata": {},
   "outputs": [],
   "source": [
    "# importing libraries\n",
    "import pandas as pd\n",
    "import numpy as np\n",
    "import matplotlib.pyplot as plt\n",
    "from sklearn.model_selection import train_test_split\n",
    "from sklearn.metrics import accuracy_score\n",
    "from sklearn.linear_model import SGDClassifier\n",
    "from sktime.transformations.panel.rocket import Rocket\n",
    "from sklearn.pipeline import make_pipeline\n",
    "from sklearn.preprocessing import MinMaxScaler\n",
    "from sklearn.linear_model import LogisticRegression, RidgeClassifier\n",
    "from sklearn.svm import SVC\n",
    "from sklearn.neighbors import KNeighborsClassifier\n",
    "from sklearn.ensemble import RandomForestClassifier\n",
    "from sklearn.model_selection import cross_val_score"
   ]
  },
  {
   "cell_type": "code",
   "execution_count": 3,
   "id": "fddb22e4",
   "metadata": {},
   "outputs": [
    {
     "name": "stdout",
     "output_type": "stream",
     "text": [
      "(421, 181)\n"
     ]
    },
    {
     "data": {
      "text/html": [
       "<div>\n",
       "<style scoped>\n",
       "    .dataframe tbody tr th:only-of-type {\n",
       "        vertical-align: middle;\n",
       "    }\n",
       "\n",
       "    .dataframe tbody tr th {\n",
       "        vertical-align: top;\n",
       "    }\n",
       "\n",
       "    .dataframe thead th {\n",
       "        text-align: right;\n",
       "    }\n",
       "</style>\n",
       "<table border=\"1\" class=\"dataframe\">\n",
       "  <thead>\n",
       "    <tr style=\"text-align: right;\">\n",
       "      <th></th>\n",
       "      <th>0</th>\n",
       "      <th>1</th>\n",
       "      <th>2</th>\n",
       "      <th>3</th>\n",
       "      <th>4</th>\n",
       "      <th>5</th>\n",
       "      <th>6</th>\n",
       "      <th>7</th>\n",
       "      <th>8</th>\n",
       "      <th>9</th>\n",
       "      <th>...</th>\n",
       "      <th>171</th>\n",
       "      <th>172</th>\n",
       "      <th>173</th>\n",
       "      <th>174</th>\n",
       "      <th>175</th>\n",
       "      <th>176</th>\n",
       "      <th>177</th>\n",
       "      <th>178</th>\n",
       "      <th>179</th>\n",
       "      <th>180</th>\n",
       "    </tr>\n",
       "  </thead>\n",
       "  <tbody>\n",
       "    <tr>\n",
       "      <th>0</th>\n",
       "      <td>F</td>\n",
       "      <td>2.72</td>\n",
       "      <td>2.69</td>\n",
       "      <td>2.75</td>\n",
       "      <td>2.89</td>\n",
       "      <td>3.07</td>\n",
       "      <td>3.27</td>\n",
       "      <td>3.48</td>\n",
       "      <td>3.67</td>\n",
       "      <td>3.82</td>\n",
       "      <td>...</td>\n",
       "      <td>6.50</td>\n",
       "      <td>6.16</td>\n",
       "      <td>5.75</td>\n",
       "      <td>5.29</td>\n",
       "      <td>4.79</td>\n",
       "      <td>4.29</td>\n",
       "      <td>3.83</td>\n",
       "      <td>3.42</td>\n",
       "      <td>3.09</td>\n",
       "      <td>2.85</td>\n",
       "    </tr>\n",
       "    <tr>\n",
       "      <th>1</th>\n",
       "      <td>F</td>\n",
       "      <td>2.68</td>\n",
       "      <td>2.47</td>\n",
       "      <td>2.46</td>\n",
       "      <td>2.54</td>\n",
       "      <td>2.69</td>\n",
       "      <td>2.93</td>\n",
       "      <td>3.36</td>\n",
       "      <td>3.99</td>\n",
       "      <td>4.75</td>\n",
       "      <td>...</td>\n",
       "      <td>2.79</td>\n",
       "      <td>3.88</td>\n",
       "      <td>5.18</td>\n",
       "      <td>6.29</td>\n",
       "      <td>6.88</td>\n",
       "      <td>6.80</td>\n",
       "      <td>6.13</td>\n",
       "      <td>5.11</td>\n",
       "      <td>4.04</td>\n",
       "      <td>3.20</td>\n",
       "    </tr>\n",
       "    <tr>\n",
       "      <th>2</th>\n",
       "      <td>F</td>\n",
       "      <td>5.04</td>\n",
       "      <td>5.69</td>\n",
       "      <td>6.21</td>\n",
       "      <td>6.52</td>\n",
       "      <td>6.59</td>\n",
       "      <td>6.47</td>\n",
       "      <td>6.26</td>\n",
       "      <td>6.06</td>\n",
       "      <td>5.91</td>\n",
       "      <td>...</td>\n",
       "      <td>5.89</td>\n",
       "      <td>5.29</td>\n",
       "      <td>4.72</td>\n",
       "      <td>4.20</td>\n",
       "      <td>3.77</td>\n",
       "      <td>3.47</td>\n",
       "      <td>3.36</td>\n",
       "      <td>3.47</td>\n",
       "      <td>3.82</td>\n",
       "      <td>4.38</td>\n",
       "    </tr>\n",
       "    <tr>\n",
       "      <th>3</th>\n",
       "      <td>F</td>\n",
       "      <td>2.42</td>\n",
       "      <td>3.21</td>\n",
       "      <td>4.02</td>\n",
       "      <td>4.58</td>\n",
       "      <td>4.77</td>\n",
       "      <td>4.64</td>\n",
       "      <td>4.39</td>\n",
       "      <td>4.25</td>\n",
       "      <td>4.42</td>\n",
       "      <td>...</td>\n",
       "      <td>8.60</td>\n",
       "      <td>8.76</td>\n",
       "      <td>8.76</td>\n",
       "      <td>8.32</td>\n",
       "      <td>7.34</td>\n",
       "      <td>5.91</td>\n",
       "      <td>4.33</td>\n",
       "      <td>2.97</td>\n",
       "      <td>2.14</td>\n",
       "      <td>1.98</td>\n",
       "    </tr>\n",
       "    <tr>\n",
       "      <th>4</th>\n",
       "      <td>F</td>\n",
       "      <td>3.35</td>\n",
       "      <td>3.40</td>\n",
       "      <td>3.89</td>\n",
       "      <td>4.71</td>\n",
       "      <td>5.66</td>\n",
       "      <td>6.47</td>\n",
       "      <td>6.90</td>\n",
       "      <td>6.81</td>\n",
       "      <td>6.25</td>\n",
       "      <td>...</td>\n",
       "      <td>9.45</td>\n",
       "      <td>8.52</td>\n",
       "      <td>7.75</td>\n",
       "      <td>7.14</td>\n",
       "      <td>6.63</td>\n",
       "      <td>6.15</td>\n",
       "      <td>5.60</td>\n",
       "      <td>4.96</td>\n",
       "      <td>4.28</td>\n",
       "      <td>3.69</td>\n",
       "    </tr>\n",
       "  </tbody>\n",
       "</table>\n",
       "<p>5 rows × 181 columns</p>\n",
       "</div>"
      ],
      "text/plain": [
       "  0     1     2     3     4     5     6     7     8     9    ...   171   172  \\\n",
       "0   F  2.72  2.69  2.75  2.89  3.07  3.27  3.48  3.67  3.82  ...  6.50  6.16   \n",
       "1   F  2.68  2.47  2.46  2.54  2.69  2.93  3.36  3.99  4.75  ...  2.79  3.88   \n",
       "2   F  5.04  5.69  6.21  6.52  6.59  6.47  6.26  6.06  5.91  ...  5.89  5.29   \n",
       "3   F  2.42  3.21  4.02  4.58  4.77  4.64  4.39  4.25  4.42  ...  8.60  8.76   \n",
       "4   F  3.35  3.40  3.89  4.71  5.66  6.47  6.90  6.81  6.25  ...  9.45  8.52   \n",
       "\n",
       "    173   174   175   176   177   178   179   180  \n",
       "0  5.75  5.29  4.79  4.29  3.83  3.42  3.09  2.85  \n",
       "1  5.18  6.29  6.88  6.80  6.13  5.11  4.04  3.20  \n",
       "2  4.72  4.20  3.77  3.47  3.36  3.47  3.82  4.38  \n",
       "3  8.76  8.32  7.34  5.91  4.33  2.97  2.14  1.98  \n",
       "4  7.75  7.14  6.63  6.15  5.60  4.96  4.28  3.69  \n",
       "\n",
       "[5 rows x 181 columns]"
      ]
     },
     "execution_count": 3,
     "metadata": {},
     "output_type": "execute_result"
    }
   ],
   "source": [
    "# reading dataset and storing in dataframe\n",
    "fatigue_df = pd.read_csv('fatigueA.csv', header = None) # sep = '\\s+')\n",
    "print(fatigue_df.shape)\n",
    "fatigue_df.head(5)"
   ]
  },
  {
   "cell_type": "code",
   "execution_count": 4,
   "id": "936131c5",
   "metadata": {},
   "outputs": [
    {
     "data": {
      "text/plain": [
       "Text(0, 0.5, 'Accel Mag')"
      ]
     },
     "execution_count": 4,
     "metadata": {},
     "output_type": "execute_result"
    },
    {
     "data": {
      "image/png": "[encoded data removed]",
      "text/plain": [
       "<Figure size 400x300 with 1 Axes>"
      ]
     },
     "metadata": {},
     "output_type": "display_data"
    }
   ],
   "source": [
    "# plotting accel mag values for fatigued and non-fatigued running \n",
    "fatigue_df.iloc[4][1:].plot(label='Fatigued')\n",
    "fatigue_df.iloc[-5][1:].plot(figsize=(4,3), label = 'Not Fatigued')\n",
    "plt.legend(loc='upper center', bbox_to_anchor=(0.5, 1.15),ncol=2)\n",
    "plt.ylabel('Accel Mag')"
   ]
  },
  {
   "cell_type": "code",
   "execution_count": 5,
   "id": "7f2141ff",
   "metadata": {},
   "outputs": [],
   "source": [
    "# splitting into target and predictors\n",
    "y = fatigue_df.pop(0).values\n",
    "X = fatigue_df.values"
   ]
  },
  {
   "cell_type": "markdown",
   "id": "559bdcd9",
   "metadata": {},
   "source": [
    "### Task 1\n",
    "Calculate the accuracy of a logistic regression classifier (`SGDClassifier`) on the raw time series data for subject A. "
   ]
  },
  {
   "cell_type": "code",
   "execution_count": 6,
   "id": "18d0d8b0",
   "metadata": {
    "scrolled": true
   },
   "outputs": [
    {
     "data": {
      "text/plain": [
       "((421, 180), (421,))"
      ]
     },
     "execution_count": 6,
     "metadata": {},
     "output_type": "execute_result"
    }
   ],
   "source": [
    "# shape of target and predictors\n",
    "X.shape, y.shape"
   ]
  },
  {
   "cell_type": "markdown",
   "id": "d0da9343",
   "metadata": {},
   "source": [
    "We see that the data has only 421 datapoints that is not enough to perform a hold-out testing. Instead we will perform 5 fold cross-validation to get accuracy of models."
   ]
  },
  {
   "cell_type": "code",
   "execution_count": 7,
   "id": "cc22ef3f",
   "metadata": {},
   "outputs": [],
   "source": [
    "# creating dictionary to store accuracy values\n",
    "classifier_accuracy_dict = {}"
   ]
  },
  {
   "cell_type": "code",
   "execution_count": 8,
   "id": "9fc6d1e4",
   "metadata": {},
   "outputs": [
    {
     "name": "stdout",
     "output_type": "stream",
     "text": [
      "Accuracy of the baseline logistic regression(SGD classifier) is: 83.61%\n"
     ]
    }
   ],
   "source": [
    "# creating sgd classifier, calculating accuracy value after 5 fold cross validation\n",
    "clf = SGDClassifier()\n",
    "baseline_sgd_accuracy = cross_val_score(clf, X, y, cv=5, scoring='accuracy').mean()\n",
    "classifier_accuracy_dict['Baseline SGD Model'] = baseline_sgd_accuracy\n",
    "print(f\"Accuracy of the baseline logistic regression(SGD classifier) is: {round(baseline_sgd_accuracy*100,2)}%\")"
   ]
  },
  {
   "cell_type": "markdown",
   "id": "53115f94",
   "metadata": {},
   "source": [
    "### Task 2\n",
    "The RunningCore Notebook contains code to convert the data to the `sktime` time-series format. Using this format assess the accuracy of the Rocket transformer coupled with an `SGDClassifier` classifier on the data for subject A. \n"
   ]
  },
  {
   "cell_type": "code",
   "execution_count": 9,
   "id": "ff530507",
   "metadata": {},
   "outputs": [
    {
     "data": {
      "text/plain": [
       "(421, 1, 180)"
      ]
     },
     "execution_count": 9,
     "metadata": {},
     "output_type": "execute_result"
    }
   ],
   "source": [
    "X3d = X[:,np.newaxis,:] # time series algs require a 3D data array (sample, var, tick)\n",
    "X3d.shape"
   ]
  },
  {
   "cell_type": "code",
   "execution_count": 10,
   "id": "af39f3b0",
   "metadata": {},
   "outputs": [
    {
     "name": "stdout",
     "output_type": "stream",
     "text": [
      "Accuracy with Rocket Transformer is: 90.98%\n"
     ]
    }
   ],
   "source": [
    "# making pipeline for rocket transformation followed by sgd classifier\n",
    "rocket_pipeline = make_pipeline(Rocket(), SGDClassifier())\n",
    "rocket_sgd_accuracy = cross_val_score(rocket_pipeline, X3d, y, cv=5, scoring='accuracy').mean()\n",
    "classifier_accuracy_dict['Rocket + SGD Model'] = rocket_sgd_accuracy\n",
    "print(f\"Accuracy with Rocket Transformer is: {round(rocket_sgd_accuracy*100,2)}%\")"
   ]
  },
  {
   "cell_type": "markdown",
   "id": "9ba289d3",
   "metadata": {},
   "source": [
    "We see that the accuracy of the SGD classifier after applying Rocket transformation increases from `83.61%` to `90.98%`."
   ]
  },
  {
   "cell_type": "markdown",
   "id": "38e2f8f5",
   "metadata": {
    "scrolled": true
   },
   "source": [
    "### Task 3"
   ]
  },
  {
   "cell_type": "code",
   "execution_count": 11,
   "id": "09f5c18b",
   "metadata": {},
   "outputs": [],
   "source": [
    "# Normalization\n",
    "scaler = MinMaxScaler()\n",
    "X_scaled = scaler.fit_transform(X)"
   ]
  },
  {
   "cell_type": "code",
   "execution_count": 12,
   "id": "dfb0eb0a",
   "metadata": {},
   "outputs": [
    {
     "name": "stdout",
     "output_type": "stream",
     "text": [
      "Accuracy with Support Vector Machine is: 84.83%\n",
      "Accuracy with Random Forest is: 84.6%\n",
      "Accuracy with K-Nearest Neighbors is: 86.03%\n",
      "Accuracy with Ridge Classifier is: 81.73%\n"
     ]
    }
   ],
   "source": [
    "# predicting accuracies of various classifiers\n",
    "clfrs = {\n",
    "    'Support Vector Machine': SVC(),\n",
    "    'Random Forest': RandomForestClassifier(),\n",
    "    'K-Nearest Neighbors': KNeighborsClassifier(),\n",
    "    'Ridge Classifier': RidgeClassifier()\n",
    "}\n",
    "\n",
    "for clf_name, clf in clfrs.items():\n",
    "    accuracy = cross_val_score(clf, X_scaled, y, cv=5, scoring='accuracy').mean()\n",
    "    classifier_accuracy_dict[clf_name] = accuracy\n",
    "    print(f\"Accuracy with {clf_name} is: {round(accuracy*100,2)}%\")"
   ]
  },
  {
   "cell_type": "code",
   "execution_count": 13,
   "id": "244b0cae",
   "metadata": {},
   "outputs": [
    {
     "data": {
      "image/png": "[encoded data removed]",
      "text/plain": [
       "<Figure size 1200x600 with 1 Axes>"
      ]
     },
     "metadata": {},
     "output_type": "display_data"
    }
   ],
   "source": [
    "# plotting accuracy results for subject A\n",
    "sorted_results = dict(sorted(classifier_accuracy_dict.items(), key=lambda item: item[1], reverse=True))\n",
    "model_names = list(sorted_results.keys())\n",
    "accuracies = list(sorted_results.values())\n",
    "plt.figure(figsize=(12,6))\n",
    "plt.bar(model_names, accuracies, color='skyblue')\n",
    "plt.title('Accuracy Results for Subject A')\n",
    "plt.xlabel('Model')\n",
    "plt.ylabel('Accuracy')\n",
    "plt.ylim(0, 1)\n",
    "plt.xticks(rotation=45, ha='right')\n",
    "plt.tight_layout()\n",
    "plt.show()"
   ]
  },
  {
   "cell_type": "markdown",
   "id": "2d18d565",
   "metadata": {},
   "source": [
    "For Subject A<br>\n",
    "1. Baseline Logistic Regression (SGD Classifier) had an accuracy of 83.61%.<br>\n",
    "2. Rocket Transformer improved accuracy to 90.98%.<br>\n",
    "3. Support Vector Machine, Random Forest, K-Nearest Neighbors, and Ridge Classifier had accuracies ranging from 81.73% to 86.03%."
   ]
  },
  {
   "cell_type": "markdown",
   "id": "d2796b0b",
   "metadata": {},
   "source": [
    "### Task 4"
   ]
  },
  {
   "cell_type": "code",
   "execution_count": 14,
   "id": "23ada41c",
   "metadata": {},
   "outputs": [
    {
     "name": "stdout",
     "output_type": "stream",
     "text": [
      "For kernel = 250\n",
      "Accuracy with Rocket with Kernel=250 + Support Vector Machine is: 86.26%\n",
      "Accuracy with Rocket with Kernel=250 + Random Forest is: 92.42%\n",
      "Accuracy with Rocket with Kernel=250 + K-Nearest Neighbors is: 87.69%\n",
      "Accuracy with Rocket with Kernel=250 + Ridge Classifier is: 92.2%\n",
      "For kernel = 500\n",
      "Accuracy with Rocket with Kernel=500 + Support Vector Machine is: 86.97%\n",
      "Accuracy with Rocket with Kernel=500 + Random Forest is: 92.42%\n",
      "Accuracy with Rocket with Kernel=500 + K-Nearest Neighbors is: 88.17%\n",
      "Accuracy with Rocket with Kernel=500 + Ridge Classifier is: 93.15%\n",
      "For kernel = 1000\n",
      "Accuracy with Rocket with Kernel=1000 + Support Vector Machine is: 86.5%\n",
      "Accuracy with Rocket with Kernel=1000 + Random Forest is: 92.66%\n",
      "Accuracy with Rocket with Kernel=1000 + K-Nearest Neighbors is: 87.46%\n",
      "Accuracy with Rocket with Kernel=1000 + Ridge Classifier is: 91.96%\n",
      "For kernel = 1500\n",
      "Accuracy with Rocket with Kernel=1500 + Support Vector Machine is: 86.26%\n",
      "Accuracy with Rocket with Kernel=1500 + Random Forest is: 93.13%\n",
      "Accuracy with Rocket with Kernel=1500 + K-Nearest Neighbors is: 87.22%\n",
      "Accuracy with Rocket with Kernel=1500 + Ridge Classifier is: 92.2%\n",
      "For kernel = 2000\n",
      "Accuracy with Rocket with Kernel=2000 + Support Vector Machine is: 87.21%\n",
      "Accuracy with Rocket with Kernel=2000 + Random Forest is: 92.19%\n",
      "Accuracy with Rocket with Kernel=2000 + K-Nearest Neighbors is: 87.93%\n",
      "Accuracy with Rocket with Kernel=2000 + Ridge Classifier is: 93.85%\n"
     ]
    }
   ],
   "source": [
    "# predicting accuracy for different values for rocket kernel and different classifiers\n",
    "kernels = [250, 500, 1000, 1500, 2000]\n",
    "for k in kernels:\n",
    "    print(f'For kernel = {k}')\n",
    "    for clf_name, clf in clfrs.items():\n",
    "        rocket_pipeline = make_pipeline(Rocket(), clf)\n",
    "        accuracy = cross_val_score(rocket_pipeline, X3d, y, cv=5, scoring='accuracy').mean()\n",
    "        name = 'Rocket with Kernel=' + str(k) + ' + ' + clf_name\n",
    "        classifier_accuracy_dict[name] = accuracy\n",
    "        print(f\"Accuracy with {name} is: {round(accuracy*100,2)}%\")"
   ]
  },
  {
   "cell_type": "markdown",
   "id": "fb893217",
   "metadata": {},
   "source": [
    "For Subject A:<br>\n",
    "1. For Rocket with different kernels, the Ridge Classifier and Random Forest classifier consistently achieved high accuracies (91.96% to 93.15%).\n",
    "2. Other classifiers, including Support Vector Machine, and K-Nearest Neighbors had accuracies ranging from 86.26% to 88.17%.\n",
    "3. The highest accuracy is achieved by Rocket with Kernel=2000 + Ridge Classifer = 93.85%"
   ]
  },
  {
   "cell_type": "markdown",
   "id": "b2886523",
   "metadata": {},
   "source": [
    "### Task 5"
   ]
  },
  {
   "cell_type": "code",
   "execution_count": 15,
   "id": "e9c82fbb",
   "metadata": {},
   "outputs": [
    {
     "name": "stdout",
     "output_type": "stream",
     "text": [
      "(251, 181)\n"
     ]
    },
    {
     "data": {
      "text/html": [
       "<div>\n",
       "<style scoped>\n",
       "    .dataframe tbody tr th:only-of-type {\n",
       "        vertical-align: middle;\n",
       "    }\n",
       "\n",
       "    .dataframe tbody tr th {\n",
       "        vertical-align: top;\n",
       "    }\n",
       "\n",
       "    .dataframe thead th {\n",
       "        text-align: right;\n",
       "    }\n",
       "</style>\n",
       "<table border=\"1\" class=\"dataframe\">\n",
       "  <thead>\n",
       "    <tr style=\"text-align: right;\">\n",
       "      <th></th>\n",
       "      <th>0</th>\n",
       "      <th>1</th>\n",
       "      <th>2</th>\n",
       "      <th>3</th>\n",
       "      <th>4</th>\n",
       "      <th>5</th>\n",
       "      <th>6</th>\n",
       "      <th>7</th>\n",
       "      <th>8</th>\n",
       "      <th>9</th>\n",
       "      <th>...</th>\n",
       "      <th>171</th>\n",
       "      <th>172</th>\n",
       "      <th>173</th>\n",
       "      <th>174</th>\n",
       "      <th>175</th>\n",
       "      <th>176</th>\n",
       "      <th>177</th>\n",
       "      <th>178</th>\n",
       "      <th>179</th>\n",
       "      <th>180</th>\n",
       "    </tr>\n",
       "  </thead>\n",
       "  <tbody>\n",
       "    <tr>\n",
       "      <th>0</th>\n",
       "      <td>F</td>\n",
       "      <td>1.49</td>\n",
       "      <td>4.09</td>\n",
       "      <td>9.27</td>\n",
       "      <td>12.70</td>\n",
       "      <td>12.80</td>\n",
       "      <td>12.00</td>\n",
       "      <td>12.40</td>\n",
       "      <td>13.20</td>\n",
       "      <td>13.00</td>\n",
       "      <td>...</td>\n",
       "      <td>9.53</td>\n",
       "      <td>9.30</td>\n",
       "      <td>9.61</td>\n",
       "      <td>9.25</td>\n",
       "      <td>8.07</td>\n",
       "      <td>7.62</td>\n",
       "      <td>8.76</td>\n",
       "      <td>9.61</td>\n",
       "      <td>7.63</td>\n",
       "      <td>3.57</td>\n",
       "    </tr>\n",
       "    <tr>\n",
       "      <th>1</th>\n",
       "      <td>F</td>\n",
       "      <td>7.35</td>\n",
       "      <td>7.25</td>\n",
       "      <td>7.80</td>\n",
       "      <td>7.94</td>\n",
       "      <td>7.34</td>\n",
       "      <td>6.48</td>\n",
       "      <td>5.87</td>\n",
       "      <td>5.47</td>\n",
       "      <td>5.20</td>\n",
       "      <td>...</td>\n",
       "      <td>8.92</td>\n",
       "      <td>7.66</td>\n",
       "      <td>7.76</td>\n",
       "      <td>8.28</td>\n",
       "      <td>8.99</td>\n",
       "      <td>10.20</td>\n",
       "      <td>11.60</td>\n",
       "      <td>11.90</td>\n",
       "      <td>10.70</td>\n",
       "      <td>8.72</td>\n",
       "    </tr>\n",
       "    <tr>\n",
       "      <th>2</th>\n",
       "      <td>F</td>\n",
       "      <td>9.31</td>\n",
       "      <td>9.06</td>\n",
       "      <td>9.41</td>\n",
       "      <td>9.51</td>\n",
       "      <td>9.23</td>\n",
       "      <td>9.14</td>\n",
       "      <td>9.08</td>\n",
       "      <td>8.45</td>\n",
       "      <td>7.63</td>\n",
       "      <td>...</td>\n",
       "      <td>11.40</td>\n",
       "      <td>10.50</td>\n",
       "      <td>9.63</td>\n",
       "      <td>9.29</td>\n",
       "      <td>9.75</td>\n",
       "      <td>10.20</td>\n",
       "      <td>10.10</td>\n",
       "      <td>10.10</td>\n",
       "      <td>10.20</td>\n",
       "      <td>10.00</td>\n",
       "    </tr>\n",
       "    <tr>\n",
       "      <th>3</th>\n",
       "      <td>F</td>\n",
       "      <td>9.82</td>\n",
       "      <td>10.50</td>\n",
       "      <td>9.86</td>\n",
       "      <td>10.20</td>\n",
       "      <td>10.90</td>\n",
       "      <td>10.60</td>\n",
       "      <td>9.97</td>\n",
       "      <td>9.50</td>\n",
       "      <td>8.15</td>\n",
       "      <td>...</td>\n",
       "      <td>11.50</td>\n",
       "      <td>10.60</td>\n",
       "      <td>9.07</td>\n",
       "      <td>7.65</td>\n",
       "      <td>6.83</td>\n",
       "      <td>6.67</td>\n",
       "      <td>6.28</td>\n",
       "      <td>5.09</td>\n",
       "      <td>4.77</td>\n",
       "      <td>7.00</td>\n",
       "    </tr>\n",
       "    <tr>\n",
       "      <th>4</th>\n",
       "      <td>F</td>\n",
       "      <td>4.68</td>\n",
       "      <td>3.68</td>\n",
       "      <td>4.63</td>\n",
       "      <td>5.01</td>\n",
       "      <td>4.05</td>\n",
       "      <td>3.40</td>\n",
       "      <td>4.00</td>\n",
       "      <td>4.62</td>\n",
       "      <td>4.25</td>\n",
       "      <td>...</td>\n",
       "      <td>11.90</td>\n",
       "      <td>10.60</td>\n",
       "      <td>11.10</td>\n",
       "      <td>12.90</td>\n",
       "      <td>14.00</td>\n",
       "      <td>13.60</td>\n",
       "      <td>13.00</td>\n",
       "      <td>12.80</td>\n",
       "      <td>11.50</td>\n",
       "      <td>8.12</td>\n",
       "    </tr>\n",
       "  </tbody>\n",
       "</table>\n",
       "<p>5 rows × 181 columns</p>\n",
       "</div>"
      ],
      "text/plain": [
       "  0     1      2     3      4      5      6      7      8      9    ...  \\\n",
       "0   F  1.49   4.09  9.27  12.70  12.80  12.00  12.40  13.20  13.00  ...   \n",
       "1   F  7.35   7.25  7.80   7.94   7.34   6.48   5.87   5.47   5.20  ...   \n",
       "2   F  9.31   9.06  9.41   9.51   9.23   9.14   9.08   8.45   7.63  ...   \n",
       "3   F  9.82  10.50  9.86  10.20  10.90  10.60   9.97   9.50   8.15  ...   \n",
       "4   F  4.68   3.68  4.63   5.01   4.05   3.40   4.00   4.62   4.25  ...   \n",
       "\n",
       "     171    172    173    174    175    176    177    178    179    180  \n",
       "0   9.53   9.30   9.61   9.25   8.07   7.62   8.76   9.61   7.63   3.57  \n",
       "1   8.92   7.66   7.76   8.28   8.99  10.20  11.60  11.90  10.70   8.72  \n",
       "2  11.40  10.50   9.63   9.29   9.75  10.20  10.10  10.10  10.20  10.00  \n",
       "3  11.50  10.60   9.07   7.65   6.83   6.67   6.28   5.09   4.77   7.00  \n",
       "4  11.90  10.60  11.10  12.90  14.00  13.60  13.00  12.80  11.50   8.12  \n",
       "\n",
       "[5 rows x 181 columns]"
      ]
     },
     "execution_count": 15,
     "metadata": {},
     "output_type": "execute_result"
    }
   ],
   "source": [
    "# reading dataset and storing in dataframe\n",
    "fatigue_df = pd.read_csv('fatigueB.csv', header = None) # sep = '\\s+')\n",
    "print(fatigue_df.shape)\n",
    "fatigue_df.head(5)"
   ]
  },
  {
   "cell_type": "code",
   "execution_count": 16,
   "id": "595e6217",
   "metadata": {},
   "outputs": [
    {
     "data": {
      "text/plain": [
       "Text(0, 0.5, 'Accel Mag')"
      ]
     },
     "execution_count": 16,
     "metadata": {},
     "output_type": "execute_result"
    },
    {
     "data": {
      "image/png": "[encoded data removed]",
      "text/plain": [
       "<Figure size 400x300 with 1 Axes>"
      ]
     },
     "metadata": {},
     "output_type": "display_data"
    }
   ],
   "source": [
    "# plotting accel mag values for fatigued and non-fatigued running \n",
    "fatigue_df.iloc[4][1:].plot(label='Fatigued')\n",
    "fatigue_df.iloc[-5][1:].plot(figsize=(4,3), label = 'Not Fatigued')\n",
    "plt.legend(loc='upper center', bbox_to_anchor=(0.5, 1.15),ncol=2)\n",
    "plt.ylabel('Accel Mag')"
   ]
  },
  {
   "cell_type": "code",
   "execution_count": 17,
   "id": "85cc6d7f",
   "metadata": {},
   "outputs": [],
   "source": [
    "# splitting into target and predictors\n",
    "y = fatigue_df.pop(0).values\n",
    "X = fatigue_df.values"
   ]
  },
  {
   "cell_type": "code",
   "execution_count": 18,
   "id": "305c3c24",
   "metadata": {},
   "outputs": [
    {
     "data": {
      "text/plain": [
       "((251, 180), (251,))"
      ]
     },
     "execution_count": 18,
     "metadata": {},
     "output_type": "execute_result"
    }
   ],
   "source": [
    "# shape of target and predictors\n",
    "X.shape, y.shape"
   ]
  },
  {
   "cell_type": "code",
   "execution_count": 19,
   "id": "632d1078",
   "metadata": {},
   "outputs": [],
   "source": [
    "# creating dictionary to store accuracy values\n",
    "classifier_accuracy_dict = {}"
   ]
  },
  {
   "cell_type": "code",
   "execution_count": 20,
   "id": "a6af2a5b",
   "metadata": {},
   "outputs": [
    {
     "name": "stdout",
     "output_type": "stream",
     "text": [
      "Accuracy of the baseline logistic regression(SGD classifier) is: 79.3%\n"
     ]
    }
   ],
   "source": [
    "# creating sgd classifier, calculating accuracy value after 5 fold cross validation\n",
    "clf = SGDClassifier()\n",
    "baseline_sgd_accuracy = cross_val_score(clf, X, y, cv=5, scoring='accuracy').mean()\n",
    "classifier_accuracy_dict['Baseline SGD Model'] = baseline_sgd_accuracy\n",
    "print(f\"Accuracy of the baseline logistic regression(SGD classifier) is: {round(baseline_sgd_accuracy*100,2)}%\")"
   ]
  },
  {
   "cell_type": "code",
   "execution_count": 21,
   "id": "52c9774a",
   "metadata": {},
   "outputs": [
    {
     "data": {
      "text/plain": [
       "(251, 1, 180)"
      ]
     },
     "execution_count": 21,
     "metadata": {},
     "output_type": "execute_result"
    }
   ],
   "source": [
    "X3d = X[:,np.newaxis,:] # time series algs require a 3D data array (sample, var, tick)\n",
    "X3d.shape"
   ]
  },
  {
   "cell_type": "code",
   "execution_count": 22,
   "id": "9a783297",
   "metadata": {},
   "outputs": [
    {
     "name": "stdout",
     "output_type": "stream",
     "text": [
      "Accuracy with Rocket Transformer is: 91.72%\n"
     ]
    }
   ],
   "source": [
    "# making pipeline for rocket transformation followed by sgd classifier\n",
    "rocket_pipeline = make_pipeline(Rocket(), SGDClassifier())\n",
    "rocket_sgd_accuracy = cross_val_score(rocket_pipeline, X3d, y, cv=5, scoring='accuracy').mean()\n",
    "classifier_accuracy_dict['Rocket + SGD Model'] = rocket_sgd_accuracy\n",
    "print(f\"Accuracy with Rocket Transformer is: {round(rocket_sgd_accuracy*100,2)}%\")"
   ]
  },
  {
   "cell_type": "code",
   "execution_count": 23,
   "id": "72407fee",
   "metadata": {},
   "outputs": [],
   "source": [
    "# Normalization\n",
    "scaler = MinMaxScaler()\n",
    "X_scaled = scaler.fit_transform(X)"
   ]
  },
  {
   "cell_type": "code",
   "execution_count": 24,
   "id": "12b9d6bc",
   "metadata": {},
   "outputs": [
    {
     "name": "stdout",
     "output_type": "stream",
     "text": [
      "Accuracy with Support Vector Machine is: 84.93%\n",
      "Accuracy with Random Forest is: 86.49%\n",
      "Accuracy with K-Nearest Neighbors is: 84.53%\n",
      "Accuracy with Ridge Classifier is: 84.09%\n"
     ]
    }
   ],
   "source": [
    "# predicting accuracies of various classifiers\n",
    "clfrs = {\n",
    "    'Support Vector Machine': SVC(),\n",
    "    'Random Forest': RandomForestClassifier(),\n",
    "    'K-Nearest Neighbors': KNeighborsClassifier(),\n",
    "    'Ridge Classifier': RidgeClassifier()\n",
    "}\n",
    "\n",
    "for clf_name, clf in clfrs.items():\n",
    "    accuracy = cross_val_score(clf, X_scaled, y, cv=5, scoring='accuracy').mean()\n",
    "    classifier_accuracy_dict[clf_name] = accuracy\n",
    "    print(f\"Accuracy with {clf_name} is: {round(accuracy*100,2)}%\")"
   ]
  },
  {
   "cell_type": "code",
   "execution_count": 25,
   "id": "7f5cedc2",
   "metadata": {},
   "outputs": [
    {
     "data": {
      "image/png": "[encoded data removed]",
      "text/plain": [
       "<Figure size 1200x600 with 1 Axes>"
      ]
     },
     "metadata": {},
     "output_type": "display_data"
    }
   ],
   "source": [
    "# plotting accuracy results for subject B\n",
    "sorted_results = dict(sorted(classifier_accuracy_dict.items(), key=lambda item: item[1], reverse=True))\n",
    "model_names = list(sorted_results.keys())\n",
    "accuracies = list(sorted_results.values())\n",
    "plt.figure(figsize=(12,6))\n",
    "plt.bar(model_names, accuracies, color='skyblue')\n",
    "plt.title('Accuracy Results for Subject B')\n",
    "plt.xlabel('Model')\n",
    "plt.ylabel('Accuracy')\n",
    "plt.ylim(0, 1)\n",
    "plt.xticks(rotation=45, ha='right')\n",
    "plt.tight_layout()\n",
    "plt.show()"
   ]
  },
  {
   "cell_type": "markdown",
   "id": "236cf8bb",
   "metadata": {},
   "source": [
    "For Subject B:\n",
    "1. Baseline Logistic Regression (SGD Classifier) had an accuracy of 79.3%.<br>\n",
    "2. Rocket Transformer improved accuracy to 91.72%.<br>\n",
    "3. Support Vector Machine, Random Forest, K-Nearest Neighbors, and Ridge Classifier had accuracies ranging from 84.09% to 86.49%."
   ]
  },
  {
   "cell_type": "code",
   "execution_count": 26,
   "id": "ce118bed",
   "metadata": {},
   "outputs": [
    {
     "name": "stdout",
     "output_type": "stream",
     "text": [
      "For kernel = 250\n",
      "Accuracy with Rocket with Kernel=250 + Support Vector Machine is: 90.91%\n",
      "Accuracy with Rocket with Kernel=250 + Random Forest is: 93.28%\n",
      "Accuracy with Rocket with Kernel=250 + K-Nearest Neighbors is: 90.91%\n",
      "Accuracy with Rocket with Kernel=250 + Ridge Classifier is: 95.25%\n",
      "For kernel = 500\n",
      "Accuracy with Rocket with Kernel=500 + Support Vector Machine is: 90.91%\n",
      "Accuracy with Rocket with Kernel=500 + Random Forest is: 90.89%\n",
      "Accuracy with Rocket with Kernel=500 + K-Nearest Neighbors is: 91.32%\n",
      "Accuracy with Rocket with Kernel=500 + Ridge Classifier is: 95.65%\n",
      "For kernel = 1000\n",
      "Accuracy with Rocket with Kernel=1000 + Support Vector Machine is: 90.91%\n",
      "Accuracy with Rocket with Kernel=1000 + Random Forest is: 91.29%\n",
      "Accuracy with Rocket with Kernel=1000 + K-Nearest Neighbors is: 90.92%\n",
      "Accuracy with Rocket with Kernel=1000 + Ridge Classifier is: 96.45%\n",
      "For kernel = 1500\n",
      "Accuracy with Rocket with Kernel=1500 + Support Vector Machine is: 91.31%\n",
      "Accuracy with Rocket with Kernel=1500 + Random Forest is: 92.48%\n",
      "Accuracy with Rocket with Kernel=1500 + K-Nearest Neighbors is: 90.93%\n",
      "Accuracy with Rocket with Kernel=1500 + Ridge Classifier is: 95.65%\n",
      "For kernel = 2000\n",
      "Accuracy with Rocket with Kernel=2000 + Support Vector Machine is: 90.91%\n",
      "Accuracy with Rocket with Kernel=2000 + Random Forest is: 92.09%\n",
      "Accuracy with Rocket with Kernel=2000 + K-Nearest Neighbors is: 90.53%\n",
      "Accuracy with Rocket with Kernel=2000 + Ridge Classifier is: 96.05%\n"
     ]
    }
   ],
   "source": [
    "# predicting accuracy for different values for rocket kernel and different classifiers\n",
    "kernels = [250, 500, 1000, 1500, 2000]\n",
    "for k in kernels:\n",
    "    print(f'For kernel = {k}')\n",
    "    for clf_name, clf in clfrs.items():\n",
    "        rocket_pipeline = make_pipeline(Rocket(), clf)\n",
    "        accuracy = cross_val_score(rocket_pipeline, X3d, y, cv=5, scoring='accuracy').mean()\n",
    "        name = 'Rocket with Kernel=' + str(k) + ' + ' + clf_name\n",
    "        classifier_accuracy_dict[name] = accuracy\n",
    "        print(f\"Accuracy with {name} is: {round(accuracy*100,2)}%\")"
   ]
  },
  {
   "cell_type": "markdown",
   "id": "4f7e9035",
   "metadata": {},
   "source": [
    "### Comparing accuracy for different kernel values for Rocket\n",
    "For Subject B:<br>\n",
    "1. Similar to Subject A, the Ridge classifier achieved high accuracies (95.25% to 96.45%) with Rocket.\n",
    "2. Other classifiers, such as Support Vector Machine, Random Forest, and K-Nearest Neighbors, also showed good performance, but Ridge Classifier consistently performed well across all kernel values."
   ]
  },
  {
   "cell_type": "markdown",
   "id": "a005dc7c",
   "metadata": {},
   "source": [
    "### Summing up\n",
    "1. For both subjects, the Rocket Transformer significantly improved accuracy compared to the baseline Logistic Regression (SGD Classifier).<br>\n",
    "2. Ridge Classifier consistently demonstrated high accuracy and robust performance with Rocket for both subjects.<br>\n",
    "3. The performance of other classifiers varied between subjects A and B, indicating that the effectiveness of models may depend on the individual characteristics of the subjects.\n"
   ]
  },
  {
   "cell_type": "markdown",
   "id": "c5fad34c",
   "metadata": {},
   "source": [
    "### Overall Conclusion:\n",
    "1. The Rocket Transformer appears effective in enhancing classification performance for both subjects.\n",
    "2. Ridge Classifier consistently demonstrated high accuracy and robust performance with Rocket.\n",
    "3. Subject-specific variations suggest that model effectiveness may depend on individual subject characteristics.\n",
    "4. These conclusions align with the observations from Task 3 and Task 4 for both subjects A and B."
   ]
  }
 ],
 "metadata": {
  "kernelspec": {
   "display_name": "Python 3 (ipykernel)",
   "language": "python",
   "name": "python3"
  },
  "language_info": {
   "codemirror_mode": {
    "name": "ipython",
    "version": 3
   },
   "file_extension": ".py",
   "mimetype": "text/x-python",
   "name": "python",
   "nbconvert_exporter": "python",
   "pygments_lexer": "ipython3",
   "version": "3.11.4"
  }
 },
 "nbformat": 4,
 "nbformat_minor": 5
}
